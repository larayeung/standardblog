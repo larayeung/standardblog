{
 "cells": [
  {
   "cell_type": "code",
   "execution_count": null,
   "id": "be49217a",
   "metadata": {},
   "outputs": [],
   "source": [
    "'''\n",
    "we're playing jackpot sit & go on ignition poker.\n",
    "\n",
    "we want to figure out how to win at these games, but it's hard to know where to start.\n",
    "\n",
    "ideally it's about finding low-hanging fruit.\n",
    "\n",
    "i guess the best thing to do would be to figure out what *not* to play no matter what.\n",
    "\n",
    "\n",
    "'''\n",
    "\n"
   ]
  }
 ],
 "metadata": {
  "kernelspec": {
   "display_name": "Python 3 (ipykernel)",
   "language": "python",
   "name": "python3"
  },
  "language_info": {
   "codemirror_mode": {
    "name": "ipython",
    "version": 3
   },
   "file_extension": ".py",
   "mimetype": "text/x-python",
   "name": "python",
   "nbconvert_exporter": "python",
   "pygments_lexer": "ipython3",
   "version": "3.9.1"
  }
 },
 "nbformat": 4,
 "nbformat_minor": 5
}
