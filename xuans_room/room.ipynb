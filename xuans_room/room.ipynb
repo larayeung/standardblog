{
 "cells": [
  {
   "cell_type": "code",
   "execution_count": null,
   "id": "b41ad70f",
   "metadata": {},
   "outputs": [],
   "source": [
    "'''\n",
    "In our mind, we have a memory palace of sorts where every self can sit and talk to each other. \n",
    "*Constructing* that room is hard, and that's where this notebook comes in.\n",
    "\n",
    "we start off with a dot in our mind\n",
    "'''\n",
    "\n"
   ]
  }
 ],
 "metadata": {
  "kernelspec": {
   "display_name": "Python 3 (ipykernel)",
   "language": "python",
   "name": "python3"
  },
  "language_info": {
   "codemirror_mode": {
    "name": "ipython",
    "version": 3
   },
   "file_extension": ".py",
   "mimetype": "text/x-python",
   "name": "python",
   "nbconvert_exporter": "python",
   "pygments_lexer": "ipython3",
   "version": "3.9.6"
  }
 },
 "nbformat": 4,
 "nbformat_minor": 5
}
