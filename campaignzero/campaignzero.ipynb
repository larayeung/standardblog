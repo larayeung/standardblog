{
 "cells": [
  {
   "cell_type": "code",
   "execution_count": 3,
   "id": "8944acbe",
   "metadata": {},
   "outputs": [],
   "source": [
    "#https://twitter.com/laraaaanguyen/status/1448185739649302528\n",
    "\n",
    "playable_battleground = [\n",
    "\n",
    "    [0, 0, 0, 0, 0, 0, 0, 0, 0, 1, 1, 1, 1, 1, 0],\n",
    "    [0, 0, 0, 0, 0, 0, 0, 0, 0, 0, 1, 1, 1, 0, 0],\n",
    "    [0, 0, 0, 0, 0, 0, 0, 0, 0, 0, 1, 0, 0, 0, 0],\n",
    "    [0, 0, 0, 0, 0, 0, 0, 0, 0, 0, 0, 0, 0, 0, 1],\n",
    "    [0, 0, 0, 0, 0, 0, 0, 0, 0, 0, 0, 0, 0, 0, 1],\n",
    "    [0, 0, 0, 0, 0, 0, 0, 0, 0, 0, 0, 0, 0, 1, 1],\n",
    "    [1, 0, 0, 0, 0, 0, 0, 0, 0, 0, 0, 0, 0, 1, 1],\n",
    "    [1, 1, 1, 0, 0, 0, 0, 0, 0, 0, 0, 0, 1, 1, 1],\n",
    "    [1, 1, 1, 1, 1, 1, 0, 0, 1, 1, 1, 0, 1, 1, 1],\n",
    "    [1, 1, 1, 1, 1, 1, 1, 0, 1, 1, 1, 0, 1, 1, 1]    \n",
    "]"
   ]
  },
  {
   "cell_type": "code",
   "execution_count": 5,
   "id": "632be731",
   "metadata": {},
   "outputs": [],
   "source": [
    "initial_start_position_red = {\n",
    "    \"hatchet_man_1\" : (5,1),\n",
    "    \"hatchet_man_1\" : (9,1),\n",
    "    \"hatchet_man_3\" : (12,3),\n",
    "    \"mccain\" : (15,1),\n",
    "}\n",
    "\n",
    "initial_start_position_blue = {\n",
    "    \"fundraiser\" : (1,6),\n",
    "    \"hatchet_man_1\" : (5,7),\n",
    "    \"operative\" : (9,8),\n",
    "    \"obama\" : (12,10),\n",
    "}"
   ]
  },
  {
   "cell_type": "code",
   "execution_count": 9,
   "id": "92af67ca",
   "metadata": {},
   "outputs": [],
   "source": [
    "initial_start_position_red = {\n",
    "    \"staff_1\" : (5,1),\n",
    "    \"staff_2\" : (9,1),\n",
    "    \"staff_3\" : (12,3),\n",
    "    \"mccain\" : (15,1),\n",
    "}\n",
    "\n",
    "initial_start_position_blue = {\n",
    "    \"staff_1\" : (1,6),\n",
    "    \"staff_2\" : (5,7),\n",
    "    \"staff_3\" : (9,8),\n",
    "    \"staff_4\" : (12,11),\n",
    "    \"obama\" : (12,10)\n",
    "}"
   ]
  },
  {
   "cell_type": "code",
   "execution_count": null,
   "id": "74d24248",
   "metadata": {},
   "outputs": [],
   "source": [
    "while True:\n",
    "    break"
   ]
  }
 ],
 "metadata": {
  "kernelspec": {
   "display_name": "Python 3 (ipykernel)",
   "language": "python",
   "name": "python3"
  },
  "language_info": {
   "codemirror_mode": {
    "name": "ipython",
    "version": 3
   },
   "file_extension": ".py",
   "mimetype": "text/x-python",
   "name": "python",
   "nbconvert_exporter": "python",
   "pygments_lexer": "ipython3",
   "version": "3.9.1"
  }
 },
 "nbformat": 4,
 "nbformat_minor": 5
}
