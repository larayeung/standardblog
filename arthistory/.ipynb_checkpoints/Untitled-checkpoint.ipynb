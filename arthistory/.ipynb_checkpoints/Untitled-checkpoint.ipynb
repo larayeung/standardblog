{
 "cells": [
  {
   "cell_type": "code",
   "execution_count": 1,
   "id": "3000e479",
   "metadata": {},
   "outputs": [
    {
     "name": "stdout",
     "output_type": "stream",
     "text": [
      "hello world\n"
     ]
    }
   ],
   "source": [
    "print(\"hello world\")"
   ]
  },
  {
   "cell_type": "code",
   "execution_count": 13,
   "id": "7ba5feb0",
   "metadata": {},
   "outputs": [
    {
     "name": "stdout",
     "output_type": "stream",
     "text": [
      "<h2>100. Las Meninas by Diego Velázquez&nbsp;</h2><div\n",
      "class=wp-block-image><figure\n",
      "class=\"aligncenter size-large\"><img\n",
      "loading=lazy width=695 height=800 src=\"data:image/svg+xml,%3Csvg%20xmlns='http://www.w3.org/2000/svg'%20viewBox='0%200%20695%20800'%3E%3C/svg%3E\" data-src=https://thepopularlist.com/wp-content/uploads/2020/07/800px-Las_Meninas_by_Diego_Velázquez_from_Prado_in_Google_Earth.jpg alt class=\"wp-image-5659 lazy\" data-srcset=\"https://thepopularlist.com/wp-content/uploads/2020/07/800px-Las_Meninas_by_Diego_Velázquez_from_Prado_in_Google_Earth.jpg 695w, https://thepopularlist.com/wp-content/uploads/2020/07/800px-Las_Meninas_by_Diego_Velázquez_from_Prado_in_Google_Earth-261x300.jpg 261w\" data-sizes=\"(max-width: 695px) 100vw, 695px\"><figcaption><a\n",
      "href=https://en.wikipedia.org/wiki/Las_Meninas#/media/File:Las_Meninas,_by_Diego_Vel%C3%A1zquez,_from_Prado_in_Google_Earth.jpg target=_blank rel=\"noreferrer noopener\">Picture Source</a></figcaption></figure></div><p>This one by Diego Velázquez&nbsp;is a painting of a painting within a painting. The masterpiece has rolled up three different themes. It is a portrait of the family of King Philip IV (Spain’s royal family) in the studio, the painter&#8217;s self-portrait, and an interior scene that shows a glimpse of Diego’s working life. Since everyone had a different perception of this puzzle-like painting, it remained a riddle for the viewers.</p>\n",
      "\n",
      "<h2>Related Video</h2><figure\n",
      "class=\"wp-block-embed is-type-video is-provider-youtube wp-block-embed-youtube\"><div\n",
      "class=wp-block-embed__wrapper><div\n",
      "class=\"container-lazyload preview-lazyload container-youtube js-lazyload--not-loaded\"><a\n",
      "href=\"https://www.youtube.com/watch?v=8c5MlBcWaVY\" class=\"lazy-load-youtube preview-lazyload preview-youtube\" data-video-title=\"Top 10 Most Expensive Paintings In The World\" title=\"Play video &quot;Top 10 Most Expensive Paintings In The World&quot;\">https://www.youtube.com/watch?v=8c5MlBcWaVY</a><noscript>Video can&#8217;t be loaded because JavaScript is disabled: <a\n",
      "href=\"https://www.youtube.com/watch?v=8c5MlBcWaVY\" title=\"Top 10 Most Expensive Paintings In The World\">Top 10 Most Expensive Paintings In The World (https://www.youtube.com/watch?v=8c5MlBcWaVY)</a></noscript></div></div></figure><hr\n",
      "class=wp-block-separator>\n",
      "\n",
      "<h2>99. The Peaceable Kingdom by Edward Hicks</h2><div\n",
      "class=wp-block-image><figure\n",
      "class=\"aligncenter size-large\"><img\n",
      "loading=lazy width=800 height=668 src=\"data:image/svg+xml,%3Csvg%20xmlns='http://www.w3.org/2000/svg'%20viewBox='0%200%20800%20668'%3E%3C/svg%3E\" data-src=https://thepopularlist.com/wp-content/uploads/2020/07/800px-Edward_Hicks_-_Peaceable_Kingdom.jpg alt class=\"wp-image-5664 lazy\" data-srcset=\"https://thepopularlist.com/wp-content/uploads/2020/07/800px-Edward_Hicks_-_Peaceable_Kingdom.jpg 800w, https://thepopularlist.com/wp-content/uploads/2020/07/800px-Edward_Hicks_-_Peaceable_Kingdom-300x251.jpg 300w, https://thepopularlist.com/wp-content/uploads/2020/07/800px-Edward_Hicks_-_Peaceable_Kingdom-768x641.jpg 768w\" data-sizes=\"(max-width: 800px) 100vw, 800px\"><figcaption><a\n",
      "href=https://en.wikipedia.org/wiki/Edward_Hicks#/media/File:Edward_Hicks_-_Peaceable_Kingdom.jpg target=_blank rel=\"noreferrer noopener\">Picture Source</a></figcaption></figure></div><p>There are more than a hundred versions of this now-popular Peaceable Kingdom. The ornamental painter created all these versions featuring a theme of the eleventh chapter of Isaiah. The painting made its mark not only for its appealing imagery but also for its beautiful message of peace.</p><hr\n",
      "class=wp-block-separator>\n",
      "\n",
      "<h2>98. Napoleon Crossing the Alps by Jacques-Louis David</h2><div\n",
      "class=wp-block-image><figure\n",
      "class=\"aligncenter size-large\"><img\n",
      "loading=lazy width=492 height=599 src=\"data:image/svg+xml,%3Csvg%20xmlns='http://www.w3.org/2000/svg'%20viewBox='0%200%20492%20599'%3E%3C/svg%3E\" data-src=https://thepopularlist.com/wp-content/uploads/2020/07/492px-David_-_Napoleon_crossing_the_Alps_-_Malmaison2.jpg a\n"
     ]
    }
   ],
   "source": [
    "with open('sample.html', 'r', encoding='utf-8') as f:\n",
    "    arthtml = f.read()\n",
    "print(arthtml[0:4000])"
   ]
  },
  {
   "cell_type": "code",
   "execution_count": 16,
   "id": "ee954d06",
   "metadata": {},
   "outputs": [
    {
     "data": {
      "text/plain": [
       "'<h2>Related Video</h2><figure\\nclass=\"wp-block-embed is-type-video is-provider-youtube wp-block-embed-youtube\"><div\\nclass=wp-block-embed__wrapper><div\\nclass=\"container-lazyload preview-lazyload container-youtube js-lazyload--not-loaded\"><a\\nhref=\"https://www.youtube.com/watch?v=8c5MlBcWaVY\" class=\"lazy-load-youtube preview-lazyload preview-youtube\" data-video-title=\"Top 10 Most Expensive Paintings In The World\" title=\"Play video &quot;Top 10 Most Expensive Paintings In The World&quot;\">https://www.youtube.com/watch?v=8c5MlBcWaVY</a><noscript>Video can&#8217;t be loaded because JavaScript is disabled: <a\\nhref=\"https://www.youtube.com/watch?v=8c5MlBcWaVY\" title=\"Top 10 Most Expensive Paintings In The World\">Top 10 Most Expensive Paintings In The World (https://www.youtube.com/watch?v=8c5MlBcWaVY)</a></noscript></div></div></figure><hr\\nclass=wp-block-separator>'"
      ]
     },
     "execution_count": 16,
     "metadata": {},
     "output_type": "execute_result"
    }
   ],
   "source": [
    "#okay, so now we have the file loaded. the sample file has already been cleaned up beforehand\n",
    "#so that each work of art is separated by two newlines\n",
    "\n",
    "arthtmllist = arthtml.split('\\n\\n')\n",
    "\n",
    "len(arthtmllist)\n",
    "arthtmllist[1]"
   ]
  },
  {
   "cell_type": "code",
   "execution_count": null,
   "id": "9bf6a353",
   "metadata": {},
   "outputs": [],
   "source": []
  },
  {
   "cell_type": "code",
   "execution_count": null,
   "id": "40cd6ea7",
   "metadata": {},
   "outputs": [],
   "source": []
  }
 ],
 "metadata": {
  "kernelspec": {
   "display_name": "Python 3 (ipykernel)",
   "language": "python",
   "name": "python3"
  },
  "language_info": {
   "codemirror_mode": {
    "name": "ipython",
    "version": 3
   },
   "file_extension": ".py",
   "mimetype": "text/x-python",
   "name": "python",
   "nbconvert_exporter": "python",
   "pygments_lexer": "ipython3",
   "version": "3.9.6"
  }
 },
 "nbformat": 4,
 "nbformat_minor": 5
}
