{
 "cells": [
  {
   "cell_type": "code",
   "execution_count": 1,
   "id": "7e43451b",
   "metadata": {},
   "outputs": [],
   "source": [
    "'''\n",
    "A few different questions we want to ask about this pdf.\n",
    "1. what parts are worth memorizing?\n",
    "2. how do we know that?\n",
    "\n",
    "(lara) i believe we should start out by listing the different sections of the textbook\n",
    "\n",
    "1. Mate\n",
    "2. Mate in 2\n",
    "3. Mate in 3\n",
    "\n",
    "4. 600 miniature games\n",
    "5. Simple Endgames\n",
    "6. Polgar Sisters' Tournament-Games Combinations (5207-5334)\n",
    "\n",
    "7. [Just one problem - not sure why that's there]\n",
    "\n",
    "8. Solutions\n",
    "\n",
    "so one direction we could do is that we could convert this textbook into a nested dictionary, like\n",
    "\n",
    "'''\n",
    "\n",
    "textbook_dict = {\n",
    "    \n",
    "    \"mate in one\" : {},\n",
    "    \"mate in two\" : {},\n",
    "    \"mate in three\" : {},\n",
    "    \"600 miniature games\" : {},\n",
    "    \"simple endgames\" : {},\n",
    "    \"polgar sisters combinations\" : {}\n",
    "}\n",
    "\n",
    "'''\n",
    "and within each dictionary you have a string as a key, and a string as a value\n",
    "both sides of the flashcard basically.\n",
    "'''"
   ]
  },
  {
   "cell_type": "code",
   "execution_count": null,
   "id": "2d7a3291",
   "metadata": {},
   "outputs": [],
   "source": [
    "'''\n",
    "there are exactly 5334 problems. what we can do is start off \\\n",
    "with obtaining the solutions and getting them into their own dictionary.\n",
    "'''\n",
    "\n",
    "solutions = {}\n",
    "\n",
    "# the first step is to extract the pdf pages from the textbook that *only* contain answers.\n",
    "# specifically, the pages are 972 to 1178\n",
    "\n",
    "# once you have those pages in their own pdf, you're going to want to trim the header of each pdf.\n",
    "# "
   ]
  }
 ],
 "metadata": {
  "kernelspec": {
   "display_name": "Python 3 (ipykernel)",
   "language": "python",
   "name": "python3"
  },
  "language_info": {
   "codemirror_mode": {
    "name": "ipython",
    "version": 3
   },
   "file_extension": ".py",
   "mimetype": "text/x-python",
   "name": "python",
   "nbconvert_exporter": "python",
   "pygments_lexer": "ipython3",
   "version": "3.9.6"
  }
 },
 "nbformat": 4,
 "nbformat_minor": 5
}
