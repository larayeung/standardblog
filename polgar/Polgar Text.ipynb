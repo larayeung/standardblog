{
 "cells": [
  {
   "cell_type": "code",
   "execution_count": 45,
   "id": "0c15766b",
   "metadata": {},
   "outputs": [
    {
     "ename": "ModuleNotFoundError",
     "evalue": "No module named 'numpy'",
     "output_type": "error",
     "traceback": [
      "\u001b[1;31m---------------------------------------------------------------------------\u001b[0m",
      "\u001b[1;31mModuleNotFoundError\u001b[0m                       Traceback (most recent call last)",
      "\u001b[1;32m~\\AppData\\Local\\Temp/ipykernel_15316/3101730926.py\u001b[0m in \u001b[0;36m<module>\u001b[1;34m\u001b[0m\n\u001b[0;32m      2\u001b[0m \u001b[1;32mfrom\u001b[0m \u001b[0mIPython\u001b[0m\u001b[1;33m.\u001b[0m\u001b[0mdisplay\u001b[0m \u001b[1;32mimport\u001b[0m \u001b[0mdisplay\u001b[0m\u001b[1;33m\u001b[0m\u001b[1;33m\u001b[0m\u001b[0m\n\u001b[0;32m      3\u001b[0m \u001b[1;32mimport\u001b[0m \u001b[0mfitz\u001b[0m\u001b[1;33m\u001b[0m\u001b[1;33m\u001b[0m\u001b[0m\n\u001b[1;32m----> 4\u001b[1;33m \u001b[1;32mimport\u001b[0m \u001b[0mnumpy\u001b[0m \u001b[1;32mas\u001b[0m \u001b[0mnp\u001b[0m\u001b[1;33m\u001b[0m\u001b[1;33m\u001b[0m\u001b[0m\n\u001b[0m",
      "\u001b[1;31mModuleNotFoundError\u001b[0m: No module named 'numpy'"
     ]
    }
   ],
   "source": [
    "from PIL import Image\n",
    "from IPython.display import display\n",
    "import fitz\n",
    "import numpy as np\n"
   ]
  },
  {
   "cell_type": "code",
   "execution_count": 2,
   "id": "906a477a",
   "metadata": {},
   "outputs": [
    {
     "data": {
      "text/plain": [
       "'\\nand within each dictionary you have a string as a key, and a string as a value\\nboth sides of the flashcard basically.\\n'"
      ]
     },
     "execution_count": 2,
     "metadata": {},
     "output_type": "execute_result"
    }
   ],
   "source": [
    "'''\n",
    "A few different questions we want to ask about this pdf.\n",
    "1. what parts are worth memorizing?\n",
    "2. how do we know that?\n",
    "\n",
    "(lara) i believe we should start out by listing the different sections of the textbook\n",
    "\n",
    "1. Mate\n",
    "2. Mate in 2\n",
    "3. Mate in 3\n",
    "\n",
    "4. 600 miniature games\n",
    "5. Simple Endgames\n",
    "6. Polgar Sisters' Tournament-Games Combinations (5207-5334)\n",
    "\n",
    "7. [Just one problem - not sure why that's there]\n",
    "\n",
    "8. Solutions\n",
    "\n",
    "so one direction we could do is that we could convert this textbook into a nested dictionary, like\n",
    "\n",
    "'''\n",
    "\n",
    "textbook_dict = {\n",
    "    \n",
    "    \"mate in one\" : {},\n",
    "    \"mate in two\" : {},\n",
    "    \"mate in three\" : {},\n",
    "    \"600 miniature games\" : {},\n",
    "    \"simple endgames\" : {},\n",
    "    \"polgar sisters combinations\" : {}\n",
    "}\n",
    "\n",
    "'''\n",
    "and within each dictionary you have a string as a key, and a string as a value\n",
    "both sides of the flashcard basically.\n",
    "'''"
   ]
  },
  {
   "cell_type": "code",
   "execution_count": 44,
   "id": "bf0f0135",
   "metadata": {},
   "outputs": [],
   "source": [
    "def merge_vertically(images):\n",
    "\n",
    "    total_height = 0\n",
    "    max_width = 0\n",
    "    # find the width and height of the final image\n",
    "    \n",
    "    for img in images:\n",
    "        total_height += img.size[1]\n",
    "        max_width = max(max_width, img.size[0])\n",
    "    \n",
    "    new_img = Image.new('RGB', (max_width, total_height))\n",
    "    # Write the contents of the new image\n",
    "    current_height = 0\n",
    "    for img in images:\n",
    "      new_img.paste(img, (0,current_height))\n",
    "      current_height += img.size[1]   \n",
    "    \n",
    "    return new_img"
   ]
  },
  {
   "cell_type": "code",
   "execution_count": null,
   "id": "b067dfe6",
   "metadata": {},
   "outputs": [],
   "source": [
    "# we can start separating images into their own individual problems\n",
    "\n",
    "def split_into_individual_problems(image_PIL, zoomfactor):\n",
    "    column_separation = 48 * zoomfactor\n",
    "    \n",
    "    # https://datacarpentry.org/image-processing/aio/index.html\n",
    "\n",
    "    # convert each image into a numpy array\n",
    "\n",
    "    # the first line in the array that has more than 6 black pixels marks the beginning of the next problem\n",
    "    # of course, you're going to want to subtract by like, 6 * zoomfactor to get the actual y-coordinate\n",
    "    # add that value to a list of arrays\n",
    "\n",
    "    # of course, we'd want to merge that with the main loop\n",
    "\n",
    "\n",
    "    \n",
    "    "
   ]
  },
  {
   "cell_type": "code",
   "execution_count": 42,
   "id": "f81f192e",
   "metadata": {},
   "outputs": [],
   "source": [
    "'''\n",
    "there are exactly 5334 problems. what we can do is start off \\\n",
    "with obtaining the solutions and getting them into their own dictionary.\n",
    "'''\n",
    "\n",
    "solutions = {}\n",
    "\n",
    "# the first step is to extract the pdf pages from the textbook that *only* contain answers.\n",
    "# specifically, the pages are 972 to 1178\n",
    "\n",
    "doc = fitz.open(\"23.pdf\")\n",
    "\n",
    "current_count = 972 - 1\n",
    "#current_count = 1166\n",
    "\n",
    "while True:\n",
    "    page = doc.load_page(current_count)\n",
    "    current_count += 1\n",
    "    \n",
    "    # this gives us a temp.png\n",
    "    zoomfactor = 6\n",
    "    pix = page.getPixmap(matrix=fitz.Matrix(zoomfactor, zoomfactor))\n",
    "    output = \"temp.png\"\n",
    "    pix.writePNG(output)\n",
    "    \n",
    "    # now we need to trip the header of that temp image!\n",
    "    # Opens a image in RGB mode\n",
    "    im = Image.open(\"temp.png\")\n",
    "\n",
    "    # Setting the points for cropped image\n",
    "    left = 0 * zoomfactor\n",
    "    top = 72 * zoomfactor\n",
    "    right = 600 * zoomfactor\n",
    "    bottom = 950 * zoomfactor\n",
    "\n",
    "    # Cropped image of above dimension\n",
    "    # (It will not change original image)\n",
    "    im1 = im.crop((left, top, right, bottom))\n",
    "\n",
    "    # Shows the image in image viewer\n",
    "    #im1.show()\n",
    "    \n",
    "    # we're going to have whatever is on the left side\n",
    "    left_side = im1.crop((0*zoomfactor,0*zoomfactor,300*zoomfactor,(bottom - top)))\n",
    "    #left_side.show()\n",
    "    #display(left_side)\n",
    "    \n",
    "    # and whatever is on the right size!\n",
    "    right_side = im1.crop(((290+17)*zoomfactor,0*zoomfactor,600*zoomfactor,(bottom - top)))\n",
    "    #right_side.show()\n",
    "    \n",
    "    # merge them together vertically\n",
    "    left_top_right_down = merge_vertically([left_side,right_side])\n",
    "    #left_top_right_down.show()\n",
    "    to_add = left_top_right_down.crop((30*zoomfactor,0,290*zoomfactor,(bottom - top)*2))\n",
    "    #to_add.show()\n",
    "    to_add.save('./stacked_images/' + str(current_count) + '.png',format=\"png\")\n",
    "    \n",
    "    if current_count == 1178: break\n",
    "    else: pass\n",
    "\n"
   ]
  },
  {
   "cell_type": "code",
   "execution_count": 3,
   "id": "c59979bc",
   "metadata": {},
   "outputs": [],
   "source": [
    "# now that we have a folder of problems that have been relatively cleaned up,\n",
    "\n",
    "# there's also another thing hanging over our heads: what should we memorize? \n",
    "# should we just turn the entire thing into cards?\n",
    "# do we use anki?\n"
   ]
  },
  {
   "cell_type": "code",
   "execution_count": null,
   "id": "61b0575e",
   "metadata": {},
   "outputs": [],
   "source": []
  }
 ],
 "metadata": {
  "kernelspec": {
   "display_name": "Python 3 (ipykernel)",
   "language": "python",
   "name": "python3"
  },
  "language_info": {
   "codemirror_mode": {
    "name": "ipython",
    "version": 3
   },
   "file_extension": ".py",
   "mimetype": "text/x-python",
   "name": "python",
   "nbconvert_exporter": "python",
   "pygments_lexer": "ipython3",
   "version": "3.9.6"
  }
 },
 "nbformat": 4,
 "nbformat_minor": 5
}
